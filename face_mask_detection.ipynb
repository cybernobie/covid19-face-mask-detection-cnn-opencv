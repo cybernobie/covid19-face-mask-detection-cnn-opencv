{
  "nbformat": 4,
  "nbformat_minor": 0,
  "metadata": {
    "colab": {
      "name": "face_mask_detection.ipynb",
      "provenance": []
    },
    "kernelspec": {
      "name": "python3",
      "display_name": "Python 3"
    },
    "accelerator": "GPU"
  },
  "cells": [
    {
      "cell_type": "code",
      "metadata": {
        "id": "e8T_bb0cikRT"
      },
      "source": [
        "from tensorflow.keras.models import Sequential\n",
        "from tensorflow.keras.layers import Conv2D, MaxPooling2D, Dropout, Flatten, Dense\n",
        "from tensorflow.keras.optimizers import Adam\n",
        "from tensorflow.keras.preprocessing.image import ImageDataGenerator\n",
        "import numpy as np\n",
        "import matplotlib.pyplot as plt\n"
      ],
      "execution_count": 5,
      "outputs": []
    },
    {
      "cell_type": "code",
      "metadata": {
        "id": "twph6G1mlhM4"
      },
      "source": [
        "import os\n",
        "os.environ['KAGGLE_USERNAME']='cybernobie'\n",
        "os.environ['KAGGLE_KEY']='8caa3e91cda81263c32d24b4f0ea0ab8'\n"
      ],
      "execution_count": 1,
      "outputs": []
    },
    {
      "cell_type": "code",
      "metadata": {
        "id": "d8XDeHjamzwc"
      },
      "source": [
        "! kaggle datasets download -d prithwirajmitra/covid-face-mask-detection-dataset"
      ],
      "execution_count": null,
      "outputs": []
    },
    {
      "cell_type": "code",
      "metadata": {
        "id": "8Y1lB7wqnrUk"
      },
      "source": [
        "! unzip covid-face-mask-detection-dataset.zip"
      ],
      "execution_count": null,
      "outputs": []
    },
    {
      "cell_type": "code",
      "metadata": {
        "id": "hik0DkLzoFrQ"
      },
      "source": [
        "main_dir = '/content/New Masks Dataset'\n",
        "train_dir = os.path.join(main_dir,'Train')\n",
        "test_dir = os.path.join(main_dir,'Test')\n",
        "valid_dir = os.path.join(main_dir,'Validation')\n",
        "\n",
        "train_mask_dir = os.path.join(train_dir,'Mask')\n",
        "train_nomask_dir = os.path.join(train_dir,'Non Mask')"
      ],
      "execution_count": 4,
      "outputs": []
    },
    {
      "cell_type": "code",
      "metadata": {
        "id": "CB_a3KfcpvCf"
      },
      "source": [
        "train_mask_names = os.listdir(train_mask_dir)\n",
        "print(train_mask_names[:10])\n",
        "\n",
        "train_nomask_names = os.listdir(train_nomask_dir)\n",
        "print(train_nomask_names[:10])"
      ],
      "execution_count": null,
      "outputs": []
    },
    {
      "cell_type": "code",
      "metadata": {
        "id": "GCEUN8R5vYY2"
      },
      "source": [
        "import matplotlib.image as mpimg\n",
        "nrows = 4\n",
        "ncols = 4\n",
        "\n",
        "plt.figure(figsize=(12,12))\n",
        "\n",
        "mask_pic =[]\n",
        "for i in train_mask_names[0:8]:\n",
        "  mask_pic.append(os.path.join(train_mask_dir,i))\n",
        "\n",
        "nomask_pic= []\n",
        "for i in train_nomask_names[0:8]:\n",
        "  nomask_pic.append(os.path.join(train_nomask_dir,i))  \n",
        "\n",
        "print(mask_pic)\n",
        "print(nomask_pic)\n",
        "\n",
        "merged_list = mask_pic+nomask_pic\n",
        "\n",
        "for i in range(0,len(merged_list)):\n",
        "  data = merged_list[i].split('/',4)[4]\n",
        "  sp = plt.subplot(nrows,ncols,i+1)\n",
        "  sp.axis('Off')\n",
        "  image = mpimg.imread(merged_list[i])\n",
        "  sp.set_title(data,fontsize=10)\n",
        "  plt.imshow(image,cmap='gray')\n",
        "  \n",
        "  plt.show()"
      ],
      "execution_count": null,
      "outputs": []
    },
    {
      "cell_type": "code",
      "metadata": {
        "id": "zbfOYoEGxCig"
      },
      "source": [
        "train_datagen = ImageDataGenerator(rescale=1./255,\n",
        "                                   zoom_range = 0.2,\n",
        "                                   rotation_range = 40,\n",
        "                                   horizontal_flip =True\n",
        "                                   )\n",
        "\n",
        "test_datagen = ImageDataGenerator(rescale=1./255)\n",
        "\n",
        "validation_datagen = ImageDataGenerator(rescale=1./255)\n",
        "\n",
        "train_generator = train_datagen.flow_from_directory(train_dir,\n",
        "                                                    target_size=(150,150),\n",
        "                                                    batch_size = 32,\n",
        "                                                    class_mode ='binary' \n",
        "                                                    )\n",
        "\n",
        "test_generator = test_datagen.flow_from_directory(test_dir,\n",
        "                                                    target_size=(150,150),\n",
        "                                                    batch_size = 32,\n",
        "                                                    class_mode ='binary' \n",
        "                                                    )\n",
        "\n",
        "valid_generator = validation_datagen.flow_from_directory(valid_dir,\n",
        "                                                    target_size=(150,150),\n",
        "                                                    batch_size = 32,\n",
        "                                                    class_mode ='binary' \n",
        "                                                    )"
      ],
      "execution_count": null,
      "outputs": []
    },
    {
      "cell_type": "code",
      "metadata": {
        "id": "OlFC8pp3Atx3",
        "outputId": "a8b58cff-8d36-44dd-ab51-27edf7aaf2d5",
        "colab": {
          "base_uri": "https://localhost:8080/"
        }
      },
      "source": [
        "train_generator.class_indices"
      ],
      "execution_count": 18,
      "outputs": [
        {
          "output_type": "execute_result",
          "data": {
            "text/plain": [
              "{'Mask': 0, 'Non Mask': 1}"
            ]
          },
          "metadata": {
            "tags": []
          },
          "execution_count": 18
        }
      ]
    },
    {
      "cell_type": "code",
      "metadata": {
        "id": "PYIBariFDr3Q",
        "outputId": "005d21c6-97ff-408b-f1ea-75569fe7fb53",
        "colab": {
          "base_uri": "https://localhost:8080/"
        }
      },
      "source": [
        "train_generator.image_shape"
      ],
      "execution_count": 19,
      "outputs": [
        {
          "output_type": "execute_result",
          "data": {
            "text/plain": [
              "(150, 150, 3)"
            ]
          },
          "metadata": {
            "tags": []
          },
          "execution_count": 19
        }
      ]
    },
    {
      "cell_type": "code",
      "metadata": {
        "id": "zisvs0d6Dyma",
        "outputId": "33e019d4-e09c-4d00-e750-26fe00cd1bbe",
        "colab": {
          "base_uri": "https://localhost:8080/"
        }
      },
      "source": [
        "model = Sequential()\n",
        "model.add(Conv2D(32,(3,3),padding='SAME',activation='relu',input_shape=(150,150,3)))\n",
        "model.add(MaxPooling2D(pool_size=(2,2)))\n",
        "model.add(Dropout(0.5))\n",
        "\n",
        "model.add(Conv2D(64,(3,3),padding='SAME',activation='relu'))\n",
        "model.add(MaxPooling2D(pool_size=(2,2)))\n",
        "model.add(Dropout(0.5))\n",
        "\n",
        "model.add(Flatten())\n",
        "\n",
        "model.add(Dense(256,activation='relu'))\n",
        "model.add(Dropout(0.5))\n",
        "model.add(Dense(1,activation='sigmoid'))\n",
        "model.summary()"
      ],
      "execution_count": 22,
      "outputs": [
        {
          "output_type": "stream",
          "text": [
            "Model: \"sequential_2\"\n",
            "_________________________________________________________________\n",
            "Layer (type)                 Output Shape              Param #   \n",
            "=================================================================\n",
            "conv2d (Conv2D)              (None, 150, 150, 32)      896       \n",
            "_________________________________________________________________\n",
            "max_pooling2d (MaxPooling2D) (None, 75, 75, 32)        0         \n",
            "_________________________________________________________________\n",
            "dropout (Dropout)            (None, 75, 75, 32)        0         \n",
            "_________________________________________________________________\n",
            "conv2d_1 (Conv2D)            (None, 75, 75, 64)        18496     \n",
            "_________________________________________________________________\n",
            "max_pooling2d_1 (MaxPooling2 (None, 37, 37, 64)        0         \n",
            "_________________________________________________________________\n",
            "dropout_1 (Dropout)          (None, 37, 37, 64)        0         \n",
            "_________________________________________________________________\n",
            "flatten (Flatten)            (None, 87616)             0         \n",
            "_________________________________________________________________\n",
            "dense (Dense)                (None, 256)               22429952  \n",
            "_________________________________________________________________\n",
            "dropout_2 (Dropout)          (None, 256)               0         \n",
            "_________________________________________________________________\n",
            "dense_1 (Dense)              (None, 1)                 257       \n",
            "=================================================================\n",
            "Total params: 22,449,601\n",
            "Trainable params: 22,449,601\n",
            "Non-trainable params: 0\n",
            "_________________________________________________________________\n"
          ],
          "name": "stdout"
        }
      ]
    },
    {
      "cell_type": "code",
      "metadata": {
        "id": "k51hgDcjGgVC"
      },
      "source": [
        "model.compile(Adam(lr=0.001),loss='binary_crossentropy',metrics=['accuracy'])"
      ],
      "execution_count": 23,
      "outputs": []
    },
    {
      "cell_type": "code",
      "metadata": {
        "id": "YoZV92i2JNEe",
        "outputId": "5faa28ee-ceb6-457b-f951-379beb97c5c6",
        "colab": {
          "base_uri": "https://localhost:8080/"
        }
      },
      "source": [
        "history = model.fit(train_generator,\n",
        "                    epochs = 30,\n",
        "                    validation_data = valid_generator)"
      ],
      "execution_count": 24,
      "outputs": [
        {
          "output_type": "stream",
          "text": [
            "Epoch 1/30\n",
            " 2/19 [==>...........................] - ETA: 0s - loss: 2.9515 - accuracy: 0.5469WARNING:tensorflow:Callbacks method `on_train_batch_end` is slow compared to the batch time (batch time: 0.0234s vs `on_train_batch_end` time: 0.0363s). Check your callbacks.\n",
            "19/19 [==============================] - 14s 735ms/step - loss: 4.4914 - accuracy: 0.5233 - val_loss: 0.6931 - val_accuracy: 0.5000\n",
            "Epoch 2/30\n",
            "19/19 [==============================] - 13s 696ms/step - loss: 0.6898 - accuracy: 0.5450 - val_loss: 0.6925 - val_accuracy: 0.5000\n",
            "Epoch 3/30\n",
            "19/19 [==============================] - 13s 706ms/step - loss: 0.6479 - accuracy: 0.6317 - val_loss: 0.6011 - val_accuracy: 0.8072\n",
            "Epoch 4/30\n",
            "19/19 [==============================] - 13s 697ms/step - loss: 0.5829 - accuracy: 0.7300 - val_loss: 0.5934 - val_accuracy: 0.8137\n",
            "Epoch 5/30\n",
            "19/19 [==============================] - 13s 704ms/step - loss: 0.4582 - accuracy: 0.8200 - val_loss: 0.4403 - val_accuracy: 0.8595\n",
            "Epoch 6/30\n",
            "19/19 [==============================] - 13s 705ms/step - loss: 0.3559 - accuracy: 0.8600 - val_loss: 0.4411 - val_accuracy: 0.8824\n",
            "Epoch 7/30\n",
            "19/19 [==============================] - 14s 713ms/step - loss: 0.3025 - accuracy: 0.8950 - val_loss: 0.3133 - val_accuracy: 0.9118\n",
            "Epoch 8/30\n",
            "19/19 [==============================] - 13s 710ms/step - loss: 0.2737 - accuracy: 0.9067 - val_loss: 0.2828 - val_accuracy: 0.9118\n",
            "Epoch 9/30\n",
            "19/19 [==============================] - 14s 714ms/step - loss: 0.3134 - accuracy: 0.8800 - val_loss: 0.3087 - val_accuracy: 0.8922\n",
            "Epoch 10/30\n",
            "19/19 [==============================] - 13s 704ms/step - loss: 0.2942 - accuracy: 0.8883 - val_loss: 0.3314 - val_accuracy: 0.9216\n",
            "Epoch 11/30\n",
            "19/19 [==============================] - 13s 702ms/step - loss: 0.2562 - accuracy: 0.9183 - val_loss: 0.2406 - val_accuracy: 0.9118\n",
            "Epoch 12/30\n",
            "19/19 [==============================] - 13s 708ms/step - loss: 0.2294 - accuracy: 0.9117 - val_loss: 0.2932 - val_accuracy: 0.9118\n",
            "Epoch 13/30\n",
            "19/19 [==============================] - 14s 719ms/step - loss: 0.2454 - accuracy: 0.9100 - val_loss: 0.2670 - val_accuracy: 0.8987\n",
            "Epoch 14/30\n",
            "19/19 [==============================] - 13s 690ms/step - loss: 0.2287 - accuracy: 0.9117 - val_loss: 0.2565 - val_accuracy: 0.9052\n",
            "Epoch 15/30\n",
            "19/19 [==============================] - 13s 708ms/step - loss: 0.2185 - accuracy: 0.9150 - val_loss: 0.2664 - val_accuracy: 0.9052\n",
            "Epoch 16/30\n",
            "19/19 [==============================] - 13s 707ms/step - loss: 0.2365 - accuracy: 0.9133 - val_loss: 0.2684 - val_accuracy: 0.9085\n",
            "Epoch 17/30\n",
            "19/19 [==============================] - 13s 707ms/step - loss: 0.2243 - accuracy: 0.9167 - val_loss: 0.2766 - val_accuracy: 0.8889\n",
            "Epoch 18/30\n",
            "19/19 [==============================] - 13s 710ms/step - loss: 0.2125 - accuracy: 0.9167 - val_loss: 0.2559 - val_accuracy: 0.8954\n",
            "Epoch 19/30\n",
            "19/19 [==============================] - 13s 710ms/step - loss: 0.2149 - accuracy: 0.9283 - val_loss: 0.2568 - val_accuracy: 0.8987\n",
            "Epoch 20/30\n",
            "19/19 [==============================] - 13s 710ms/step - loss: 0.2078 - accuracy: 0.9250 - val_loss: 0.2459 - val_accuracy: 0.9085\n",
            "Epoch 21/30\n",
            "19/19 [==============================] - 13s 707ms/step - loss: 0.1933 - accuracy: 0.9267 - val_loss: 0.2739 - val_accuracy: 0.8987\n",
            "Epoch 22/30\n",
            "19/19 [==============================] - 13s 702ms/step - loss: 0.2007 - accuracy: 0.9333 - val_loss: 0.2566 - val_accuracy: 0.8987\n",
            "Epoch 23/30\n",
            "19/19 [==============================] - 13s 708ms/step - loss: 0.1911 - accuracy: 0.9267 - val_loss: 0.2605 - val_accuracy: 0.8987\n",
            "Epoch 24/30\n",
            "19/19 [==============================] - 13s 706ms/step - loss: 0.2066 - accuracy: 0.9267 - val_loss: 0.2449 - val_accuracy: 0.9052\n",
            "Epoch 25/30\n",
            "19/19 [==============================] - 13s 710ms/step - loss: 0.2146 - accuracy: 0.9167 - val_loss: 0.2420 - val_accuracy: 0.9216\n",
            "Epoch 26/30\n",
            "19/19 [==============================] - 13s 709ms/step - loss: 0.1750 - accuracy: 0.9383 - val_loss: 0.2433 - val_accuracy: 0.8987\n",
            "Epoch 27/30\n",
            "19/19 [==============================] - 13s 704ms/step - loss: 0.1742 - accuracy: 0.9383 - val_loss: 0.2485 - val_accuracy: 0.9052\n",
            "Epoch 28/30\n",
            "19/19 [==============================] - 13s 710ms/step - loss: 0.2066 - accuracy: 0.9250 - val_loss: 0.2585 - val_accuracy: 0.8954\n",
            "Epoch 29/30\n",
            "19/19 [==============================] - 14s 712ms/step - loss: 0.2170 - accuracy: 0.9183 - val_loss: 0.2539 - val_accuracy: 0.8987\n",
            "Epoch 30/30\n",
            "19/19 [==============================] - 13s 705ms/step - loss: 0.1740 - accuracy: 0.9317 - val_loss: 0.2436 - val_accuracy: 0.9150\n"
          ],
          "name": "stdout"
        }
      ]
    },
    {
      "cell_type": "code",
      "metadata": {
        "id": "PpBDVlfZLgVR",
        "outputId": "d166a437-2b85-4b63-f2ad-e594dda6d96a",
        "colab": {
          "base_uri": "https://localhost:8080/"
        }
      },
      "source": [
        "history.history.keys()"
      ],
      "execution_count": 25,
      "outputs": [
        {
          "output_type": "execute_result",
          "data": {
            "text/plain": [
              "dict_keys(['loss', 'accuracy', 'val_loss', 'val_accuracy'])"
            ]
          },
          "metadata": {
            "tags": []
          },
          "execution_count": 25
        }
      ]
    },
    {
      "cell_type": "code",
      "metadata": {
        "id": "aoxEJG4cLnbG",
        "outputId": "2e73bb6f-132d-4846-e691-ba17b578fcea",
        "colab": {
          "base_uri": "https://localhost:8080/",
          "height": 312
        }
      },
      "source": [
        "plt.plot(history.history['loss'])\n",
        "plt.plot(history.history['val_loss'])\n",
        "plt.legend(['training','validation'])\n",
        "plt.title('Training and validation loss')\n",
        "plt.xlabel('poch')\n"
      ],
      "execution_count": 27,
      "outputs": [
        {
          "output_type": "execute_result",
          "data": {
            "text/plain": [
              "Text(0.5, 0, 'poch')"
            ]
          },
          "metadata": {
            "tags": []
          },
          "execution_count": 27
        },
        {
          "output_type": "display_data",
          "data": {
            "image/png": "[encoded data removed]",
            "text/plain": [
              "<Figure size 432x288 with 1 Axes>"
            ]
          },
          "metadata": {
            "tags": [],
            "needs_background": "light"
          }
        }
      ]
    },
    {
      "cell_type": "code",
      "metadata": {
        "id": "cSB_oQ4XMjy3",
        "outputId": "87b63fb2-1e80-4532-a2d0-0b4519d325b2",
        "colab": {
          "base_uri": "https://localhost:8080/",
          "height": 312
        }
      },
      "source": [
        "plt.plot(history.history['accuracy'])\n",
        "plt.plot(history.history['val_accuracy'])\n",
        "plt.legend(['training','validation'])\n",
        "plt.title('Training and validation accuracy')\n",
        "plt.xlabel('poch')"
      ],
      "execution_count": 29,
      "outputs": [
        {
          "output_type": "execute_result",
          "data": {
            "text/plain": [
              "Text(0.5, 0, 'poch')"
            ]
          },
          "metadata": {
            "tags": []
          },
          "execution_count": 29
        },
        {
          "output_type": "display_data",
          "data": {
            "image/png": "[encoded data removed]",
            "text/plain": [
              "<Figure size 432x288 with 1 Axes>"
            ]
          },
          "metadata": {
            "tags": [],
            "needs_background": "light"
          }
        }
      ]
    },
    {
      "cell_type": "code",
      "metadata": {
        "id": "AVzELtnOM6hZ",
        "outputId": "c30e1f47-d124-4cb1-e246-cfb1334a8b93",
        "colab": {
          "base_uri": "https://localhost:8080/"
        }
      },
      "source": [
        "test_loss, test_acc = model.evaluate(test_generator)\n",
        "print('test loss:{} test acc:{}'.format(test_loss,test_acc))"
      ],
      "execution_count": 30,
      "outputs": [
        {
          "output_type": "stream",
          "text": [
            "4/4 [==============================] - 1s 252ms/step - loss: 0.1928 - accuracy: 0.9100\n",
            "test loss:0.19283905625343323 test acc:0.9100000262260437\n"
          ],
          "name": "stdout"
        }
      ]
    },
    {
      "cell_type": "code",
      "metadata": {
        "id": "M3bBFiHcNgK-",
        "outputId": "9d14e92a-139b-44ab-f51d-8283900874fb",
        "colab": {
          "resources": {
            "http://localhost:8080/nbextensions/google.colab/files.js": {
              "data": "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",
              "ok": true,
              "headers": [
                [
                  "content-type",
                  "application/javascript"
                ]
              ],
              "status": 200,
              "status_text": ""
            }
          },
          "base_uri": "https://localhost:8080/",
          "height": 174
        }
      },
      "source": [
        "from google.colab import files\n",
        "from keras.preprocessing import image\n",
        "uploaded = files.upload()\n",
        "for fname in uploaded.keys():\n",
        "  img_path = '/content/'+fname\n",
        "  img = image.load_img(img_path,target_size=(150,150))\n",
        "  images = image.img_to_array(img)\n",
        "  images = np.expand_dims(images,axis=0)\n",
        "  prediction = model.predict(images)\n",
        "  print(fname)\n",
        "  if prediction == 0:\n",
        "    print('Mask')\n",
        "  else:\n",
        "    print('No Mask')  \n"
      ],
      "execution_count": 33,
      "outputs": [
        {
          "output_type": "display_data",
          "data": {
            "text/html": [
              "\n",
              "     <input type=\"file\" id=\"files-f3798a69-2d56-4b12-9d84-caef1864b823\" name=\"files[]\" multiple disabled\n",
              "        style=\"border:none\" />\n",
              "     <output id=\"result-f3798a69-2d56-4b12-9d84-caef1864b823\">\n",
              "      Upload widget is only available when the cell has been executed in the\n",
              "      current browser session. Please rerun this cell to enable.\n",
              "      </output>\n",
              "      <script src=\"/nbextensions/google.colab/files.js\"></script> "
            ],
            "text/plain": [
              "<IPython.core.display.HTML object>"
            ]
          },
          "metadata": {
            "tags": []
          }
        },
        {
          "output_type": "stream",
          "text": [
            "Saving face.jpg to face (1).jpg\n",
            "Saving mask.jpg to mask (1).jpg\n",
            "face.jpg\n",
            "No Mask\n",
            "mask.jpg\n",
            "Mask\n"
          ],
          "name": "stdout"
        }
      ]
    },
    {
      "cell_type": "code",
      "metadata": {
        "id": "-ANvziaqPD9f"
      },
      "source": [
        "model.save('model.h5')"
      ],
      "execution_count": 34,
      "outputs": []
    },
    {
      "cell_type": "code",
      "metadata": {
        "id": "5WXP9pDJQSoO"
      },
      "source": [
        ""
      ],
      "execution_count": null,
      "outputs": []
    }
  ]
}